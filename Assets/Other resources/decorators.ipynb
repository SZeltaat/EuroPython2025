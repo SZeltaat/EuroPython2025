{
 "cells": [
  {
   "cell_type": "markdown",
   "id": "be3854d9-fb18-4090-bbab-876d2b143e30",
   "metadata": {},
   "source": [
    "# Mastering decorators\n",
    "\n",
    "## The cherry on top of your functions\n",
    "\n",
    "- Reference materials: https://decorators.mathspp.com\n",
    "- Feedback form for attendees: https://forms.gle/6dSbmYqWcqX3JBCV7\n",
    "- Python drops 🐍💧 newsletter: https://mathspp.com/drops"
   ]
  },
  {
   "cell_type": "code",
   "execution_count": 1,
   "id": "5d31465c-d53f-47c3-8a11-8fe788afc934",
   "metadata": {},
   "outputs": [
    {
     "name": "stdout",
     "output_type": "stream",
     "text": [
      "Hello, world!\n"
     ]
    }
   ],
   "source": [
    "print(\"Hello, world!\")"
   ]
  },
  {
   "cell_type": "code",
   "execution_count": 2,
   "id": "ab9392cc-2942-4159-b615-a2f461c4bbbf",
   "metadata": {},
   "outputs": [
    {
     "data": {
      "text/plain": [
       "['banana', 'cantalope', 'pear']"
      ]
     },
     "execution_count": 2,
     "metadata": {},
     "output_type": "execute_result"
    }
   ],
   "source": [
    "sorted(\n",
    "    [\"cantalope\", \"banana\", \"pear\"]\n",
    ")"
   ]
  },
  {
   "cell_type": "code",
   "execution_count": 3,
   "id": "1a66512f-9d30-40b1-8033-c32d13aede14",
   "metadata": {},
   "outputs": [
    {
     "data": {
      "text/plain": [
       "['pear', 'banana', 'cantalope']"
      ]
     },
     "execution_count": 3,
     "metadata": {},
     "output_type": "execute_result"
    }
   ],
   "source": [
    "sorted(\n",
    "    [\"cantalope\", \"banana\", \"pear\"],\n",
    "    key=len,\n",
    ")"
   ]
  },
  {
   "cell_type": "code",
   "execution_count": 4,
   "id": "0db00d63-f9dd-4a44-adac-f0fc5552de5e",
   "metadata": {},
   "outputs": [
    {
     "data": {
      "text/plain": [
       "['pear', 'cantalope', 'banana']"
      ]
     },
     "execution_count": 4,
     "metadata": {},
     "output_type": "execute_result"
    }
   ],
   "source": [
    "def count_as(string):\n",
    "    return string.count(\"a\")\n",
    "\n",
    "sorted(\n",
    "    [\"cantalope\", \"banana\", \"pear\"],\n",
    "    key=count_as,\n",
    ")"
   ]
  },
  {
   "cell_type": "code",
   "execution_count": 6,
   "id": "10c038c0-6ff2-4e15-be9a-b2995b715807",
   "metadata": {},
   "outputs": [
    {
     "name": "stdout",
     "output_type": "stream",
     "text": [
      "10\n"
     ]
    }
   ],
   "source": [
    "def collatz(num):\n",
    "    def odd(n):\n",
    "        return 3 * n + 1\n",
    "    def even(n):\n",
    "        return n // 2\n",
    "\n",
    "    if num % 2 == 1:\n",
    "        return odd\n",
    "    else:\n",
    "        return even\n",
    "\n",
    "fn = collatz(3)\n",
    "print(fn(3))"
   ]
  },
  {
   "cell_type": "markdown",
   "id": "d795dbc5-d662-4a93-82e5-c6b86dd91d90",
   "metadata": {},
   "source": [
    "# Now for something entirely different"
   ]
  },
  {
   "cell_type": "code",
   "execution_count": 16,
   "id": "a9c4dffc-69f8-4781-96ed-ae7d13790a0f",
   "metadata": {},
   "outputs": [],
   "source": [
    "def factorial(n):\n",
    "    result = 1\n",
    "    while n >= 1:\n",
    "        result *= n\n",
    "        n -= 1\n",
    "    return result"
   ]
  },
  {
   "cell_type": "code",
   "execution_count": 20,
   "id": "334194fe-b898-4897-8bb5-44c49737f82a",
   "metadata": {},
   "outputs": [],
   "source": [
    "very_large_number = factorial(100_000)"
   ]
  },
  {
   "cell_type": "code",
   "execution_count": 21,
   "id": "fe1181f9-65b3-4dfb-bb00-78f157c1f237",
   "metadata": {},
   "outputs": [],
   "source": [
    "very_large_number_2 = factorial(100_000)"
   ]
  },
  {
   "cell_type": "code",
   "execution_count": 22,
   "id": "12b7c05a-cad8-4f22-87b3-ca8b23000ead",
   "metadata": {},
   "outputs": [
    {
     "data": {
      "text/plain": [
       "True"
      ]
     },
     "execution_count": 22,
     "metadata": {},
     "output_type": "execute_result"
    }
   ],
   "source": [
    "very_large_number == very_large_number_2"
   ]
  },
  {
   "cell_type": "code",
   "execution_count": 26,
   "id": "36cb202c-cf56-430f-9019-2813cf534a1a",
   "metadata": {},
   "outputs": [],
   "source": [
    "cache = {}  # Map n's to result's\n",
    "\n",
    "def factorial(n):\n",
    "    original_n = n\n",
    "    if n not in cache:\n",
    "        result = 1\n",
    "        while n >= 1:\n",
    "            result *= n\n",
    "            n -= 1\n",
    "        cache[original_n] = result\n",
    "\n",
    "    return cache[original_n]"
   ]
  },
  {
   "cell_type": "code",
   "execution_count": 27,
   "id": "51323a81-759b-4377-8924-feedf23dfa9e",
   "metadata": {},
   "outputs": [],
   "source": [
    "_ = factorial(100_000)"
   ]
  },
  {
   "cell_type": "code",
   "execution_count": 28,
   "id": "b95a055d-682d-481e-bcb3-b983c792a001",
   "metadata": {},
   "outputs": [],
   "source": [
    "_ = factorial(100_000)"
   ]
  },
  {
   "cell_type": "code",
   "execution_count": 29,
   "id": "95c61349-9997-46ed-9e60-3e44cfaa879c",
   "metadata": {},
   "outputs": [],
   "source": [
    "def fibonacci(n):\n",
    "    if n <= 1:\n",
    "        return n\n",
    "    return fibonacci(n - 1) + fibonacci(n - 2)"
   ]
  },
  {
   "cell_type": "code",
   "execution_count": 31,
   "id": "3eb79c76-c68a-4d2c-9447-9e4ecc52ddd6",
   "metadata": {},
   "outputs": [
    {
     "data": {
      "text/plain": [
       "24157817"
      ]
     },
     "execution_count": 31,
     "metadata": {},
     "output_type": "execute_result"
    }
   ],
   "source": [
    "fibonacci(37)"
   ]
  },
  {
   "cell_type": "code",
   "execution_count": 32,
   "id": "6237b133-d5ac-4b34-80ec-f34dd28f194a",
   "metadata": {},
   "outputs": [
    {
     "data": {
      "text/plain": [
       "24157817"
      ]
     },
     "execution_count": 32,
     "metadata": {},
     "output_type": "execute_result"
    }
   ],
   "source": [
    "fibonacci(37)"
   ]
  },
  {
   "cell_type": "code",
   "execution_count": 41,
   "id": "154745d7-949f-47f5-9d06-40cb519d8fe9",
   "metadata": {},
   "outputs": [],
   "source": [
    "_fibonacci_cache = {}\n",
    "\n",
    "def fibonacci(n):\n",
    "    original_n = n\n",
    "    if n not in _fibonacci_cache:\n",
    "        if n <= 1:\n",
    "            return n\n",
    "        result = fibonacci(n - 1) + fibonacci(n - 2)\n",
    "        _fibonacci_cache[original_n] = result\n",
    "\n",
    "    return _fibonacci_cache[original_n]"
   ]
  },
  {
   "cell_type": "code",
   "execution_count": 42,
   "id": "ba9915ab-1837-4d74-8596-999ba3620d48",
   "metadata": {},
   "outputs": [
    {
     "data": {
      "text/plain": [
       "24157817"
      ]
     },
     "execution_count": 42,
     "metadata": {},
     "output_type": "execute_result"
    }
   ],
   "source": [
    "fibonacci(37)"
   ]
  },
  {
   "cell_type": "markdown",
   "id": "727e4920-ded3-4c51-af14-9b5bbb746e5b",
   "metadata": {},
   "source": [
    "# Lots of problems:\n",
    "\n",
    " - cache dict is not tightly tied to the function it's for\n",
    " - code that is “polluting” the original function\n",
    " - caching logic is duplicated across functions"
   ]
  },
  {
   "cell_type": "markdown",
   "id": "34ccce82-09a2-4987-991e-26afc1f1ef2d",
   "metadata": {},
   "source": [
    "# Decorators solve these problems"
   ]
  },
  {
   "cell_type": "code",
   "execution_count": 44,
   "id": "ed2db865-5a87-43db-a07d-42a36c35448e",
   "metadata": {},
   "outputs": [],
   "source": [
    "def collatz_length(n):\n",
    "    length = 1\n",
    "    while n != 1:\n",
    "        if n % 2:\n",
    "            n = 3 * n + 1\n",
    "        else:\n",
    "            n //= 2\n",
    "        length += 1\n",
    "\n",
    "    return length"
   ]
  },
  {
   "cell_type": "code",
   "execution_count": 48,
   "id": "9d6ea112-819d-43f5-8773-fd9eef56e756",
   "metadata": {},
   "outputs": [],
   "source": [
    "def cache_factory(fn):\n",
    "    cache = {}\n",
    "\n",
    "    def cached_fn(n):\n",
    "        if n not in cache:\n",
    "            cache[n] = fn(n)\n",
    "\n",
    "        return cache[n]\n",
    "\n",
    "    return cached_fn"
   ]
  },
  {
   "cell_type": "code",
   "execution_count": 50,
   "id": "35d1b572-ade3-48db-85b6-9856ab08d497",
   "metadata": {},
   "outputs": [],
   "source": [
    "cached_collatz = cache_factory(collatz)"
   ]
  },
  {
   "cell_type": "code",
   "execution_count": 51,
   "id": "ad2d2cfe-5a3f-4b17-8d21-0dbb00cd7ec3",
   "metadata": {},
   "outputs": [],
   "source": [
    "def fibonacci(n):\n",
    "    if n <= 1:\n",
    "        return n\n",
    "    return fibonacci(n - 1) + fibonacci(n - 2)\n",
    "\n",
    "cached_fibonacci = cache_factory(fibonacci)"
   ]
  },
  {
   "cell_type": "code",
   "execution_count": 52,
   "id": "ed9d2a72-1d4b-4568-b92c-1ae031c0a708",
   "metadata": {},
   "outputs": [
    {
     "data": {
      "text/plain": [
       "24157817"
      ]
     },
     "execution_count": 52,
     "metadata": {},
     "output_type": "execute_result"
    }
   ],
   "source": [
    "cached_fibonacci(37)"
   ]
  },
  {
   "cell_type": "code",
   "execution_count": 53,
   "id": "81f7f7e1-a780-4bba-a279-3e482bf950c8",
   "metadata": {},
   "outputs": [
    {
     "data": {
      "text/plain": [
       "24157817"
      ]
     },
     "execution_count": 53,
     "metadata": {},
     "output_type": "execute_result"
    }
   ],
   "source": [
    "cached_fibonacci(37)"
   ]
  },
  {
   "cell_type": "code",
   "execution_count": 54,
   "id": "5e679f7e-7beb-4305-b2b1-3f33131087b2",
   "metadata": {},
   "outputs": [],
   "source": [
    "from math import factorial"
   ]
  },
  {
   "cell_type": "code",
   "execution_count": 55,
   "id": "a4cc555e-d1a8-4239-b255-0a67c599f6f0",
   "metadata": {},
   "outputs": [],
   "source": [
    "cached_factorial = cache_factory(factorial)"
   ]
  },
  {
   "cell_type": "markdown",
   "id": "7cc22186-2466-4b42-bd0c-ace71458f332",
   "metadata": {},
   "source": [
    "decorators.mathspp.com"
   ]
  },
  {
   "cell_type": "code",
   "execution_count": 56,
   "id": "a7f53e3b-27c9-4185-9bb3-fc49f96dd9bb",
   "metadata": {},
   "outputs": [],
   "source": [
    "def cache_factory(fn):\n",
    "    cache = {}\n",
    "\n",
    "    def cached_fn(n):\n",
    "        if n not in cache:\n",
    "            cache[n] = fn(n)\n",
    "\n",
    "        return cache[n]\n",
    "\n",
    "    return cached_fn"
   ]
  },
  {
   "cell_type": "code",
   "execution_count": 57,
   "id": "d8e30670-fa43-41c6-9615-3605733cb994",
   "metadata": {},
   "outputs": [],
   "source": [
    "def fibonacci(n):\n",
    "    if n <= 1:\n",
    "        return n\n",
    "    return fibonacci(n - 1) + fibonacci(n - 2)\n",
    "\n",
    "fibonacci = cache_factory(fibonacci)"
   ]
  },
  {
   "cell_type": "code",
   "execution_count": 58,
   "id": "2b65233c-91f4-4166-b90f-e3934a0ff386",
   "metadata": {},
   "outputs": [],
   "source": [
    "@cache_factory\n",
    "def fibonacci(n):\n",
    "    if n <= 1:\n",
    "        return n\n",
    "    return fibonacci(n - 1) + fibonacci(n - 2)"
   ]
  },
  {
   "cell_type": "markdown",
   "id": "d0b5b229-8566-47ef-84ab-958521407132",
   "metadata": {},
   "source": [
    "```python\n",
    "@decorator\n",
    "def fn(...): ...\n",
    "```\n",
    "\n",
    "is the same as\n",
    "\n",
    "```python\n",
    "def fn(...): ...\n",
    "\n",
    "fn = decorator(fn)\n",
    "```"
   ]
  },
  {
   "cell_type": "code",
   "execution_count": 77,
   "id": "99554497-74f8-428e-a7a0-ce27d3e43964",
   "metadata": {},
   "outputs": [],
   "source": [
    "def cache_factory(original_fn):  # Decorator, function that accepts functions\n",
    "    _cache = {}  # This will be necessary for the cache.\n",
    "\n",
    "    # I'm supposed to “improve” my original function.\n",
    "    # I'm supposed to “decorate it” with useful functionality.\n",
    "    # The user must still have access to a function...\n",
    "    # Because they'll want to use it.\n",
    "    def new_function_to_replace_the_original_function(number):\n",
    "        # Now I add whatever logic I need before calling my\n",
    "        # original function.\n",
    "        if number not in _cache:\n",
    "            _cache[number] = original_fn(number)\n",
    "        return _cache[number]\n",
    "\n",
    "    return new_function_to_replace_the_original_function"
   ]
  },
  {
   "cell_type": "code",
   "execution_count": 78,
   "id": "3b549804-47f4-4f7d-92da-cab71acc2711",
   "metadata": {},
   "outputs": [
    {
     "name": "stdout",
     "output_type": "stream",
     "text": [
      "[42, 73, 0, 16, 10]\n"
     ]
    }
   ],
   "source": [
    "def foo():\n",
    "    my_list = [42, 73, 0, 16, 10]\n",
    "    print(my_list)\n",
    "\n",
    "foo()"
   ]
  },
  {
   "cell_type": "code",
   "execution_count": 85,
   "id": "e1aeeca9-b1e3-40c6-bcca-b7c75cc6a3f8",
   "metadata": {},
   "outputs": [],
   "source": [
    "def logger(function):\n",
    "\n",
    "    def wrapper_with_logging(number):\n",
    "        print(f\"Calling function {function.__name__} with {number}\") # do whatever\n",
    "        original_result = function(number)\n",
    "        print(f\"Function {function.__name__} finished with {original_result}\") # do whatever\n",
    "        return original_result\n",
    "\n",
    "    return wrapper_with_logging"
   ]
  },
  {
   "cell_type": "code",
   "execution_count": 86,
   "id": "d7e8a3a9-0025-4761-a5b8-448b13ea8943",
   "metadata": {},
   "outputs": [],
   "source": [
    "@logger\n",
    "def fibonacci(n):\n",
    "    if n <= 1:\n",
    "        return n\n",
    "    return fibonacci(n - 1) + fibonacci(n - 2)"
   ]
  },
  {
   "cell_type": "code",
   "execution_count": 87,
   "id": "227d2ae4-d6a2-4bdf-8a3b-3a5370e70839",
   "metadata": {},
   "outputs": [
    {
     "name": "stdout",
     "output_type": "stream",
     "text": [
      "Calling function fibonacci with 3\n",
      "Calling function fibonacci with 2\n",
      "Calling function fibonacci with 1\n",
      "Function fibonacci finished with 1\n",
      "Calling function fibonacci with 0\n",
      "Function fibonacci finished with 0\n",
      "Function fibonacci finished with 1\n",
      "Calling function fibonacci with 1\n",
      "Function fibonacci finished with 1\n",
      "Function fibonacci finished with 2\n"
     ]
    },
    {
     "data": {
      "text/plain": [
       "2"
      ]
     },
     "execution_count": 87,
     "metadata": {},
     "output_type": "execute_result"
    }
   ],
   "source": [
    "fibonacci(3)"
   ]
  },
  {
   "cell_type": "code",
   "execution_count": 88,
   "id": "bf56e3de-e422-4c6b-8b54-6a3ce31cc646",
   "metadata": {},
   "outputs": [],
   "source": [
    "@logger\n",
    "def add(a, b):\n",
    "    return a + b"
   ]
  },
  {
   "cell_type": "code",
   "execution_count": 89,
   "id": "2c0226c0-463c-4803-bfba-4df2c7b619b1",
   "metadata": {},
   "outputs": [
    {
     "ename": "TypeError",
     "evalue": "logger.<locals>.wrapper_with_logging() takes 1 positional argument but 2 were given",
     "output_type": "error",
     "traceback": [
      "\u001b[31m---------------------------------------------------------------------------\u001b[39m",
      "\u001b[31mTypeError\u001b[39m                                 Traceback (most recent call last)",
      "\u001b[36mCell\u001b[39m\u001b[36m \u001b[39m\u001b[32mIn[89]\u001b[39m\u001b[32m, line 1\u001b[39m\n\u001b[32m----> \u001b[39m\u001b[32m1\u001b[39m \u001b[43madd\u001b[49m\u001b[43m(\u001b[49m\u001b[32;43m1\u001b[39;49m\u001b[43m,\u001b[49m\u001b[43m \u001b[49m\u001b[32;43m2\u001b[39;49m\u001b[43m)\u001b[49m\n",
      "\u001b[31mTypeError\u001b[39m: logger.<locals>.wrapper_with_logging() takes 1 positional argument but 2 were given"
     ]
    }
   ],
   "source": [
    "add(1, 2)"
   ]
  },
  {
   "cell_type": "markdown",
   "id": "988867b0-cc64-4b00-b758-86ea4b5aeae6",
   "metadata": {},
   "source": [
    "# There's an assumption baked into the wrapper:\n",
    "\n",
    "## The function that is decorated only accepts a single argument."
   ]
  },
  {
   "cell_type": "markdown",
   "id": "e147f27b-0845-4cf8-a67c-2af1ba23680e",
   "metadata": {},
   "source": [
    "# Instead, write a GENERAL wrapper that's ready for ANY function"
   ]
  },
  {
   "cell_type": "code",
   "execution_count": 90,
   "id": "46f012fc-b4db-4c65-acb2-52c919071b9c",
   "metadata": {},
   "outputs": [],
   "source": [
    "def logger(function):\n",
    "\n",
    "    def wrapper_with_logging(*args):\n",
    "        print(f\"Function {function.__name__} called with {args}.\")\n",
    "        original_result = function(*args)\n",
    "        ... # do whatever\n",
    "        return original_result\n",
    "\n",
    "    return wrapper_with_logging"
   ]
  },
  {
   "cell_type": "code",
   "execution_count": 92,
   "id": "3fa90ef2-a44d-4c1f-8665-62c3162f8d99",
   "metadata": {},
   "outputs": [
    {
     "data": {
      "text/plain": [
       "2"
      ]
     },
     "execution_count": 92,
     "metadata": {},
     "output_type": "execute_result"
    }
   ],
   "source": [
    "max(1, 2)"
   ]
  },
  {
   "cell_type": "code",
   "execution_count": 93,
   "id": "3f3dfcce-bd7a-4d27-87b4-d381d5b070ea",
   "metadata": {},
   "outputs": [
    {
     "data": {
      "text/plain": [
       "3"
      ]
     },
     "execution_count": 93,
     "metadata": {},
     "output_type": "execute_result"
    }
   ],
   "source": [
    "max(1, 2, 3)"
   ]
  },
  {
   "cell_type": "code",
   "execution_count": 94,
   "id": "cfa83853-805b-4114-889d-faaae7b9c2b9",
   "metadata": {},
   "outputs": [
    {
     "data": {
      "text/plain": [
       "4"
      ]
     },
     "execution_count": 94,
     "metadata": {},
     "output_type": "execute_result"
    }
   ],
   "source": [
    "max(1, 2, 3, 4)"
   ]
  },
  {
   "cell_type": "code",
   "execution_count": 100,
   "id": "419f2e44-aeb1-43d0-ab3d-829962826696",
   "metadata": {},
   "outputs": [],
   "source": [
    "def my_max(*bananas):  # An arbitrary number of arguments\n",
    "    print(bananas)"
   ]
  },
  {
   "cell_type": "code",
   "execution_count": 101,
   "id": "430c27bb-b91f-4dce-820d-1799926619fd",
   "metadata": {},
   "outputs": [
    {
     "name": "stdout",
     "output_type": "stream",
     "text": [
      "(1, 2, 3)\n"
     ]
    }
   ],
   "source": [
    "my_max(1, 2, 3)"
   ]
  },
  {
   "cell_type": "code",
   "execution_count": 97,
   "id": "ed2fa0fb-9785-44e8-9e4c-c3a0f2d0d1bb",
   "metadata": {},
   "outputs": [
    {
     "name": "stdout",
     "output_type": "stream",
     "text": [
      "(1, 2)\n"
     ]
    }
   ],
   "source": [
    "my_max(1, 2)"
   ]
  },
  {
   "cell_type": "code",
   "execution_count": 98,
   "id": "188163a6-3b4c-44e4-90c6-d6751792f908",
   "metadata": {},
   "outputs": [
    {
     "name": "stdout",
     "output_type": "stream",
     "text": [
      "(1,)\n"
     ]
    }
   ],
   "source": [
    "my_max(1)"
   ]
  },
  {
   "cell_type": "code",
   "execution_count": 99,
   "id": "d39d8a7b-d0d9-4a12-9b79-5abf1741f97f",
   "metadata": {},
   "outputs": [
    {
     "name": "stdout",
     "output_type": "stream",
     "text": [
      "()\n"
     ]
    }
   ],
   "source": [
    "my_max()"
   ]
  },
  {
   "cell_type": "code",
   "execution_count": 102,
   "id": "0722c54b-03b4-418d-ba46-ee3c26f2c5a3",
   "metadata": {},
   "outputs": [
    {
     "data": {
      "text/plain": [
       "3"
      ]
     },
     "execution_count": 102,
     "metadata": {},
     "output_type": "execute_result"
    }
   ],
   "source": [
    "int(\"3\")"
   ]
  },
  {
   "cell_type": "code",
   "execution_count": 104,
   "id": "4139e289-b87f-410e-91e8-c3b4178702ab",
   "metadata": {},
   "outputs": [
    {
     "data": {
      "text/plain": [
       "5"
      ]
     },
     "execution_count": 104,
     "metadata": {},
     "output_type": "execute_result"
    }
   ],
   "source": [
    "int(\"101\", base=2)"
   ]
  },
  {
   "cell_type": "code",
   "execution_count": 105,
   "id": "9055eb29-1150-4f1b-a2f1-d203273ddbbc",
   "metadata": {},
   "outputs": [],
   "source": [
    "def keyword_args(**kwargs):\n",
    "    print(kwargs)"
   ]
  },
  {
   "cell_type": "code",
   "execution_count": 106,
   "id": "2905966e-9026-4bef-8ae2-02813acd12c3",
   "metadata": {},
   "outputs": [
    {
     "name": "stdout",
     "output_type": "stream",
     "text": [
      "{'base': 2}\n"
     ]
    }
   ],
   "source": [
    "keyword_args(base=2)"
   ]
  },
  {
   "cell_type": "code",
   "execution_count": 107,
   "id": "03a4a399-18a2-4021-bd29-bd8c616daa10",
   "metadata": {},
   "outputs": [
    {
     "name": "stdout",
     "output_type": "stream",
     "text": [
      "{}\n"
     ]
    }
   ],
   "source": [
    "keyword_args()"
   ]
  },
  {
   "cell_type": "code",
   "execution_count": 108,
   "id": "00ffa527-32da-4e00-b3fe-4a73cd50ae18",
   "metadata": {},
   "outputs": [
    {
     "name": "stdout",
     "output_type": "stream",
     "text": [
      "{'base': 2, 'bananas': 'wohooo'}\n"
     ]
    }
   ],
   "source": [
    "keyword_args(base=2, bananas=\"wohooo\")"
   ]
  },
  {
   "cell_type": "markdown",
   "id": "1e776ac2-22de-4cb7-a28f-3fae901c4951",
   "metadata": {},
   "source": [
    "# `*args` and `**kwargs` let you write GENERAL signatures"
   ]
  },
  {
   "cell_type": "code",
   "execution_count": 110,
   "id": "5e933fb5-10f1-41d5-8118-1edef5fdf6c1",
   "metadata": {},
   "outputs": [],
   "source": [
    "def logger(function):\n",
    "\n",
    "    def wrapper_with_logging(*args, **kwargs):\n",
    "        print(f\"Function {function.__name__} called with {args} and {kwargs}.\")\n",
    "        original_result = function(*args, **kwargs)\n",
    "        print(f\"Function {function.__name__} done with {original_result}.\")\n",
    "        return original_result\n",
    "\n",
    "    return wrapper_with_logging"
   ]
  },
  {
   "cell_type": "code",
   "execution_count": 111,
   "id": "11836b12-3bb6-4413-a8df-78705d539569",
   "metadata": {},
   "outputs": [],
   "source": [
    "@logger\n",
    "def fibonacci(n):\n",
    "    if n <= 1:\n",
    "        return n\n",
    "    return fibonacci(n - 1) + fibonacci(n - 2)"
   ]
  },
  {
   "cell_type": "code",
   "execution_count": 112,
   "id": "41ed7782-76e2-4f87-bce5-14420790e6ac",
   "metadata": {},
   "outputs": [
    {
     "name": "stdout",
     "output_type": "stream",
     "text": [
      "Function fibonacci called with (3,) and {}.\n",
      "Function fibonacci called with (2,) and {}.\n",
      "Function fibonacci called with (1,) and {}.\n",
      "Function fibonacci done with 1.\n",
      "Function fibonacci called with (0,) and {}.\n",
      "Function fibonacci done with 0.\n",
      "Function fibonacci done with 1.\n",
      "Function fibonacci called with (1,) and {}.\n",
      "Function fibonacci done with 1.\n",
      "Function fibonacci done with 2.\n"
     ]
    },
    {
     "data": {
      "text/plain": [
       "2"
      ]
     },
     "execution_count": 112,
     "metadata": {},
     "output_type": "execute_result"
    }
   ],
   "source": [
    "fibonacci(3)"
   ]
  },
  {
   "cell_type": "code",
   "execution_count": 113,
   "id": "3c0aa827-2c09-4adf-b63c-643e5b3768b0",
   "metadata": {},
   "outputs": [],
   "source": [
    "@logger\n",
    "def add(a, b):\n",
    "    return a + b"
   ]
  },
  {
   "cell_type": "code",
   "execution_count": 114,
   "id": "9609a88d-c68f-4d2e-a5ed-6197c8ae9f70",
   "metadata": {},
   "outputs": [
    {
     "name": "stdout",
     "output_type": "stream",
     "text": [
      "Function add called with (1, 2) and {}.\n",
      "Function add done with 3.\n"
     ]
    },
    {
     "data": {
      "text/plain": [
       "3"
      ]
     },
     "execution_count": 114,
     "metadata": {},
     "output_type": "execute_result"
    }
   ],
   "source": [
    "add(1, 2)"
   ]
  },
  {
   "cell_type": "code",
   "execution_count": 115,
   "id": "7f023dc6-da59-4dc7-86a9-15aa4cc0a761",
   "metadata": {},
   "outputs": [
    {
     "data": {
      "text/plain": [
       "<function __main__.logger.<locals>.wrapper_with_logging(*args, **kwargs)>"
      ]
     },
     "execution_count": 115,
     "metadata": {},
     "output_type": "execute_result"
    }
   ],
   "source": [
    "add"
   ]
  },
  {
   "cell_type": "code",
   "execution_count": 117,
   "id": "6ee4e50b-4e92-465e-88fd-1c899409bf64",
   "metadata": {},
   "outputs": [
    {
     "name": "stdout",
     "output_type": "stream",
     "text": [
      "Help on function wrapper_with_logging in module __main__:\n",
      "\n",
      "wrapper_with_logging(*args, **kwargs)\n",
      "\n"
     ]
    }
   ],
   "source": [
    "help(add)"
   ]
  },
  {
   "cell_type": "code",
   "execution_count": 118,
   "id": "bf9787c4-4773-4eea-a746-86a0faad2e63",
   "metadata": {},
   "outputs": [],
   "source": [
    "def add(a, b):\n",
    "    \"\"\"Adds two numbers together.\"\"\"\n",
    "    return a + b"
   ]
  },
  {
   "cell_type": "code",
   "execution_count": 119,
   "id": "bba75532-28e1-48f3-80ce-f036282832f8",
   "metadata": {},
   "outputs": [
    {
     "name": "stdout",
     "output_type": "stream",
     "text": [
      "Help on function add in module __main__:\n",
      "\n",
      "add(a, b)\n",
      "    Adds two numbers together.\n",
      "\n"
     ]
    }
   ],
   "source": [
    "help(add)"
   ]
  },
  {
   "cell_type": "code",
   "execution_count": 120,
   "id": "8ef491f8-e946-4291-b63e-c50e6f8e552d",
   "metadata": {},
   "outputs": [],
   "source": [
    "@logger\n",
    "def add(a, b):\n",
    "    \"\"\"Adds two numbers together.\"\"\"\n",
    "    return a + b"
   ]
  },
  {
   "cell_type": "code",
   "execution_count": 121,
   "id": "023aad77-f1d1-41e4-aa3a-fc345e58aaae",
   "metadata": {},
   "outputs": [
    {
     "name": "stdout",
     "output_type": "stream",
     "text": [
      "Help on function wrapper_with_logging in module __main__:\n",
      "\n",
      "wrapper_with_logging(*args, **kwargs)\n",
      "\n"
     ]
    }
   ],
   "source": [
    "help(add)"
   ]
  },
  {
   "cell_type": "markdown",
   "id": "aa440fae-921e-4711-a1de-4fb2cf75651f",
   "metadata": {},
   "source": [
    "# To fix the metadata issue with decorators you...\n",
    "\n",
    "# Use another decorator! 🤪"
   ]
  },
  {
   "cell_type": "code",
   "execution_count": 122,
   "id": "8d022904-2238-4107-a699-3b8882f44cc3",
   "metadata": {},
   "outputs": [],
   "source": [
    "from functools import wraps\n",
    "\n",
    "def logger(function):\n",
    "\n",
    "    @wraps(function)\n",
    "    def wrapper_with_logging(*args, **kwargs):\n",
    "        print(f\"Function {function.__name__} called with {args} and {kwargs}.\")\n",
    "        original_result = function(*args, **kwargs)\n",
    "        print(f\"Function {function.__name__} done with {original_result}.\")\n",
    "        return original_result\n",
    "\n",
    "    return wrapper_with_logging"
   ]
  },
  {
   "cell_type": "code",
   "execution_count": 123,
   "id": "de8a7ec3-4264-485e-9beb-798444026792",
   "metadata": {},
   "outputs": [],
   "source": [
    "@logger\n",
    "def add(a, b):\n",
    "    \"\"\"Adds two numbers together.\"\"\"\n",
    "    return a + b"
   ]
  },
  {
   "cell_type": "code",
   "execution_count": 124,
   "id": "c70868d4-6fcb-4965-a75f-9403aa8490f1",
   "metadata": {},
   "outputs": [
    {
     "name": "stdout",
     "output_type": "stream",
     "text": [
      "Help on function add in module __main__:\n",
      "\n",
      "add(a, b)\n",
      "    Adds two numbers together.\n",
      "\n"
     ]
    }
   ],
   "source": [
    "help(add)"
   ]
  },
  {
   "cell_type": "markdown",
   "id": "907268b1-6d0f-4cb1-97d9-fa1499d4e474",
   "metadata": {},
   "source": [
    "# Decorator blueprint"
   ]
  },
  {
   "cell_type": "code",
   "execution_count": 125,
   "id": "e7362ad1-5f53-46a1-9084-0750a3bd91b9",
   "metadata": {},
   "outputs": [],
   "source": [
    "from functools import wraps\n",
    "\n",
    "def decorator(function_to_decorate):\n",
    "    \n",
    "    @wraps(function_to_decorate)\n",
    "    def wrapper(*args, **kwargs):\n",
    "        ... # Do whatever you want before running\n",
    "        # the original function\n",
    "        result = function_to_decorate(*args, **kwargs)\n",
    "        ... # Do whatever you want after running\n",
    "        # the original function\n",
    "        return result\n",
    "\n",
    "    return wrapper"
   ]
  },
  {
   "cell_type": "markdown",
   "id": "55e83d68-89d9-4130-9826-7cb1728931eb",
   "metadata": {},
   "source": [
    "# General decorators > Exercises"
   ]
  },
  {
   "cell_type": "code",
   "execution_count": 128,
   "id": "b0e0a21d-d5f1-40dd-876e-c53d325a3424",
   "metadata": {},
   "outputs": [],
   "source": [
    "from functools import cache, lru_cache"
   ]
  },
  {
   "cell_type": "code",
   "execution_count": 130,
   "id": "72bf8bed-8ba2-4d7d-a4bd-08b6fc763e65",
   "metadata": {},
   "outputs": [],
   "source": [
    "@cache\n",
    "def fibonacci(n):\n",
    "    if n <= 1:\n",
    "        return n\n",
    "    return fibonacci(n - 1) + fibonacci(n - 2)"
   ]
  },
  {
   "cell_type": "code",
   "execution_count": 131,
   "id": "bb4841ae-6a63-452a-b98f-237c89faf5f9",
   "metadata": {},
   "outputs": [
    {
     "data": {
      "text/plain": [
       "832040"
      ]
     },
     "execution_count": 131,
     "metadata": {},
     "output_type": "execute_result"
    }
   ],
   "source": [
    "fibonacci(30)"
   ]
  },
  {
   "cell_type": "code",
   "execution_count": 132,
   "id": "82159b2c-6049-4785-824d-c6271ae38c78",
   "metadata": {},
   "outputs": [
    {
     "data": {
      "text/plain": [
       "CacheInfo(hits=28, misses=31, maxsize=None, currsize=31)"
      ]
     },
     "execution_count": 132,
     "metadata": {},
     "output_type": "execute_result"
    }
   ],
   "source": [
    "fibonacci.cache_info()"
   ]
  },
  {
   "cell_type": "code",
   "execution_count": null,
   "id": "6c776891-1d16-4852-ba16-9e93b7788160",
   "metadata": {},
   "outputs": [],
   "source": [
    "class Cls:\n",
    "    ...\n",
    "\n",
    "@Cls\n",
    "def fn(...):\n",
    "    ..."
   ]
  },
  {
   "cell_type": "code",
   "execution_count": 134,
   "id": "5285195c-1d57-4b82-b9bd-1136ec090a98",
   "metadata": {},
   "outputs": [],
   "source": [
    "class Dec:\n",
    "    def __init__(self, fn):\n",
    "        self.fn = fn\n",
    "\n",
    "    def __call__(self):\n",
    "        return self.fn()\n",
    "\n",
    "def fn():\n",
    "    pass\n",
    "\n",
    "fn = Dec(fn)"
   ]
  },
  {
   "cell_type": "code",
   "execution_count": 136,
   "id": "c2f6e746-9a21-4743-9616-339d32606982",
   "metadata": {},
   "outputs": [
    {
     "ename": "TypeError",
     "evalue": "'Cls' object is not callable",
     "output_type": "error",
     "traceback": [
      "\u001b[31m---------------------------------------------------------------------------\u001b[39m",
      "\u001b[31mTypeError\u001b[39m                                 Traceback (most recent call last)",
      "\u001b[36mCell\u001b[39m\u001b[36m \u001b[39m\u001b[32mIn[136]\u001b[39m\u001b[32m, line 1\u001b[39m\n\u001b[32m----> \u001b[39m\u001b[32m1\u001b[39m \u001b[43mfn\u001b[49m\u001b[43m(\u001b[49m\u001b[43m)\u001b[49m\n",
      "\u001b[31mTypeError\u001b[39m: 'Cls' object is not callable"
     ]
    }
   ],
   "source": [
    "fn()"
   ]
  },
  {
   "cell_type": "code",
   "execution_count": 137,
   "id": "c120e8e2-fb14-4b59-89e2-d396313b7c27",
   "metadata": {},
   "outputs": [
    {
     "data": {
      "text/plain": [
       "<__main__.Cls at 0x11034ee40>"
      ]
     },
     "execution_count": 137,
     "metadata": {},
     "output_type": "execute_result"
    }
   ],
   "source": [
    "fn"
   ]
  },
  {
   "cell_type": "code",
   "execution_count": 148,
   "id": "1a3301b3-1b03-4e12-b7b5-685273dd0c56",
   "metadata": {},
   "outputs": [],
   "source": [
    "from functools import wraps\n",
    "\n",
    "class cache:\n",
    "    def __init__(self, fn):\n",
    "        self.fn = fn\n",
    "        self.cache = {}\n",
    "\n",
    "    def __call__(self, *args):\n",
    "        if args not in self.cache:\n",
    "            self.cache[args] = self.fn(*args)\n",
    "            return self.cache[args]\n",
    " \n",
    "    def clear_cache(self):\n",
    "        self.cache = {}"
   ]
  },
  {
   "cell_type": "code",
   "execution_count": 146,
   "id": "4a8cf84e-d709-4373-8a2d-3910962bb470",
   "metadata": {},
   "outputs": [],
   "source": [
    "@cache\n",
    "def fibonacci(n):\n",
    "    if n <= 1:\n",
    "        return n\n",
    "    return fibonacci(n - 1) + fibonacci(n - 2)"
   ]
  },
  {
   "cell_type": "code",
   "execution_count": 147,
   "id": "421a7375-cb02-4b50-a2c3-7c316dd3431b",
   "metadata": {},
   "outputs": [
    {
     "ename": "TypeError",
     "evalue": "'cache' object is not callable",
     "output_type": "error",
     "traceback": [
      "\u001b[31m---------------------------------------------------------------------------\u001b[39m",
      "\u001b[31mTypeError\u001b[39m                                 Traceback (most recent call last)",
      "\u001b[36mCell\u001b[39m\u001b[36m \u001b[39m\u001b[32mIn[147]\u001b[39m\u001b[32m, line 1\u001b[39m\n\u001b[32m----> \u001b[39m\u001b[32m1\u001b[39m \u001b[43mfibonacci\u001b[49m\u001b[43m(\u001b[49m\u001b[32;43m30\u001b[39;49m\u001b[43m)\u001b[49m\n",
      "\u001b[31mTypeError\u001b[39m: 'cache' object is not callable"
     ]
    }
   ],
   "source": [
    "fibonacci(30)"
   ]
  },
  {
   "cell_type": "code",
   "execution_count": 142,
   "id": "57a28e21-5189-4f26-86ce-fc6f1e3f6203",
   "metadata": {},
   "outputs": [
    {
     "data": {
      "text/plain": [
       "{(1,): 1,\n",
       " (0,): 0,\n",
       " (2,): 1,\n",
       " (3,): 2,\n",
       " (4,): 3,\n",
       " (5,): 5,\n",
       " (6,): 8,\n",
       " (7,): 13,\n",
       " (8,): 21,\n",
       " (9,): 34,\n",
       " (10,): 55,\n",
       " (11,): 89,\n",
       " (12,): 144,\n",
       " (13,): 233,\n",
       " (14,): 377,\n",
       " (15,): 610,\n",
       " (16,): 987,\n",
       " (17,): 1597,\n",
       " (18,): 2584,\n",
       " (19,): 4181,\n",
       " (20,): 6765,\n",
       " (21,): 10946,\n",
       " (22,): 17711,\n",
       " (23,): 28657,\n",
       " (24,): 46368,\n",
       " (25,): 75025,\n",
       " (26,): 121393,\n",
       " (27,): 196418,\n",
       " (28,): 317811,\n",
       " (29,): 514229,\n",
       " (30,): 832040}"
      ]
     },
     "execution_count": 142,
     "metadata": {},
     "output_type": "execute_result"
    }
   ],
   "source": [
    "fibonacci.cache"
   ]
  },
  {
   "cell_type": "code",
   "execution_count": 143,
   "id": "bdc18c2c-aeec-4a54-9a06-37906625f08c",
   "metadata": {},
   "outputs": [],
   "source": [
    "fibonacci.clear_cache()"
   ]
  },
  {
   "cell_type": "code",
   "execution_count": 144,
   "id": "b9290d57-1daa-44f2-a22b-73c35000ac7f",
   "metadata": {},
   "outputs": [
    {
     "data": {
      "text/plain": [
       "{}"
      ]
     },
     "execution_count": 144,
     "metadata": {},
     "output_type": "execute_result"
    }
   ],
   "source": [
    "fibonacci.cache"
   ]
  },
  {
   "cell_type": "code",
   "execution_count": 149,
   "id": "109e3f48-897a-44d8-bab4-1c9d932eb89c",
   "metadata": {},
   "outputs": [
    {
     "data": {
      "text/plain": [
       "3"
      ]
     },
     "execution_count": 149,
     "metadata": {},
     "output_type": "execute_result"
    }
   ],
   "source": [
    "int(\"3\")"
   ]
  },
  {
   "cell_type": "code",
   "execution_count": 151,
   "id": "e398b660-2567-4c5d-8e48-e65571d9bd16",
   "metadata": {},
   "outputs": [
    {
     "name": "stdout",
     "output_type": "stream",
     "text": [
      "<class 'int'>\n"
     ]
    }
   ],
   "source": [
    "print(int)"
   ]
  },
  {
   "cell_type": "code",
   "execution_count": null,
   "id": "cadd142a-e623-45d9-a264-20eeb850a1e1",
   "metadata": {},
   "outputs": [],
   "source": []
  }
 ],
 "metadata": {
  "kernelspec": {
   "display_name": "Python 3 (ipykernel)",
   "language": "python",
   "name": "python3"
  },
  "language_info": {
   "codemirror_mode": {
    "name": "ipython",
    "version": 3
   },
   "file_extension": ".py",
   "mimetype": "text/x-python",
   "name": "python",
   "nbconvert_exporter": "python",
   "pygments_lexer": "ipython3",
   "version": "3.13.3"
  }
 },
 "nbformat": 4,
 "nbformat_minor": 5
}
